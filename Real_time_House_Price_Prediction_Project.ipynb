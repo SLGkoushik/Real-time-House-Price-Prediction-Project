{
  "cells": [
    {
      "cell_type": "code",
      "execution_count": null,
      "metadata": {
        "id": "zBbeVB9fACLE"
      },
      "outputs": [],
      "source": [
        "import numpy as np\n",
        "import pandas as pd\n",
        "import matplotlib.pyplot as plt\n",
        "import seaborn as sns"
      ]
    },
    {
      "cell_type": "markdown",
      "metadata": {
        "id": "ni4QsjLEomvB"
      },
      "source": [
        "## **Read the datasets below**"
      ]
    },
    {
      "cell_type": "code",
      "execution_count": null,
      "metadata": {
        "id": "UnE5YozPn_3G"
      },
      "outputs": [],
      "source": [
        "df_train = pd.read_excel(\"/content/train.xlsx\")\n",
        "df_test = pd.read_excel(\"/content/test.xlsx\")\n",
        "df_val=pd.read_excel('/content/validate.xlsx')"
      ]
    },
    {
      "cell_type": "markdown",
      "metadata": {
        "id": "UmE56GaRIwip"
      },
      "source": [
        "Reading locations.txt"
      ]
    },
    {
      "cell_type": "code",
      "execution_count": null,
      "metadata": {
        "id": "jB_Dan3ekk9I"
      },
      "outputs": [],
      "source": [
        "f = open('/content/locations.txt','r')\n",
        "loc = f.read()\n",
        "loc = loc.replace('\"','')\n",
        "loc = loc.strip('][\\n').split(\",\")"
      ]
    },
    {
      "cell_type": "markdown",
      "metadata": {
        "id": "_kMCy8kwI4SG"
      },
      "source": [
        "Reading pincodes.txt"
      ]
    },
    {
      "cell_type": "code",
      "execution_count": null,
      "metadata": {
        "id": "DFMjAjgsDYTy"
      },
      "outputs": [],
      "source": [
        "f = open('/content/pincodes.txt','r')\n",
        "pin= f.read()\n",
        "pin = pin.replace('\"','')\n",
        "pin = pin.strip('][').split(\",\")\n",
        "pin = list(map(int,pin))"
      ]
    },
    {
      "cell_type": "markdown",
      "metadata": {
        "id": "jVNVwG5uI9vs"
      },
      "source": [
        "Mapping location to pincode and adding pincode column to dataset "
      ]
    },
    {
      "cell_type": "code",
      "execution_count": null,
      "metadata": {
        "id": "4Wjj7umoD-m1"
      },
      "outputs": [],
      "source": [
        "l_p=dict(zip(loc,pin))\n",
        "df_train['Pincode']=df_train['Location'].map(l_p)\n",
        "df_test['Pincode']=df_test['Location'].map(l_p)\n",
        "df_val['Pincode']=df_val['Location'].map(l_p)"
      ]
    },
    {
      "cell_type": "markdown",
      "metadata": {
        "id": "udAR4RjYowlO"
      },
      "source": [
        "## **EDA, Data Cleaning, Data processing (Imputation, categorical variables, variable encoding, feature engineering etc)**"
      ]
    },
    {
      "cell_type": "code",
      "source": [
        "df_train.info()"
      ],
      "metadata": {
        "colab": {
          "base_uri": "https://localhost:8080/"
        },
        "id": "8QUV-HrYdh5E",
        "outputId": "e470eca2-3df7-4350-87b7-a15979b8e436"
      },
      "execution_count": null,
      "outputs": [
        {
          "output_type": "stream",
          "name": "stdout",
          "text": [
            "<class 'pandas.core.frame.DataFrame'>\n",
            "RangeIndex: 810 entries, 0 to 809\n",
            "Data columns (total 10 columns):\n",
            " #   Column      Non-Null Count  Dtype  \n",
            "---  ------      --------------  -----  \n",
            " 0   Bedrooms    810 non-null    object \n",
            " 1   Bathrooms   810 non-null    object \n",
            " 2   Facing      810 non-null    object \n",
            " 3   Furnishing  810 non-null    object \n",
            " 4   Tennants    810 non-null    object \n",
            " 5   Area        770 non-null    object \n",
            " 6   Price       810 non-null    object \n",
            " 7   Locality    810 non-null    object \n",
            " 8   Location    807 non-null    object \n",
            " 9   Pincode     799 non-null    float64\n",
            "dtypes: float64(1), object(9)\n",
            "memory usage: 63.4+ KB\n"
          ]
        }
      ]
    },
    {
      "cell_type": "code",
      "execution_count": null,
      "metadata": {
        "id": "vQTGjJrnNllD",
        "colab": {
          "base_uri": "https://localhost:8080/"
        },
        "outputId": "18cab989-be6e-417f-aadf-9517fa3a28da"
      },
      "outputs": [
        {
          "output_type": "execute_result",
          "data": {
            "text/plain": [
              "Bedrooms       0\n",
              "Bathrooms      0\n",
              "Facing         0\n",
              "Furnishing     0\n",
              "Tennants       0\n",
              "Area          40\n",
              "Price          0\n",
              "Locality       0\n",
              "Location       3\n",
              "Pincode       11\n",
              "dtype: int64"
            ]
          },
          "metadata": {},
          "execution_count": 577
        }
      ],
      "source": [
        "df_train.isnull().sum()"
      ]
    },
    {
      "cell_type": "code",
      "source": [
        "df_test.isnull().sum()"
      ],
      "metadata": {
        "colab": {
          "base_uri": "https://localhost:8080/"
        },
        "id": "GWWW4wqN0hAN",
        "outputId": "e6c60bb5-4a44-47ce-d16b-284a922fd5a7"
      },
      "execution_count": null,
      "outputs": [
        {
          "output_type": "execute_result",
          "data": {
            "text/plain": [
              "Bedrooms      0\n",
              "Bathrooms     5\n",
              "Facing        5\n",
              "Furnishing    0\n",
              "Tennants      1\n",
              "Area          6\n",
              "Price         0\n",
              "Locality      0\n",
              "Location      0\n",
              "Pincode       2\n",
              "dtype: int64"
            ]
          },
          "metadata": {},
          "execution_count": 578
        }
      ]
    },
    {
      "cell_type": "markdown",
      "metadata": {
        "id": "w8Nh3xlSbNsF"
      },
      "source": [
        "Cleaning Bathrooms column"
      ]
    },
    {
      "cell_type": "code",
      "execution_count": null,
      "metadata": {
        "id": "Xqf9f3lDbNc7"
      },
      "outputs": [],
      "source": [
        "def clean_bath(val):\n",
        "  if type(val) is int:\n",
        "    return val\n",
        "  return None\n",
        "df_train['Bathrooms'] = df_train['Bathrooms'].apply(clean_bath)\n",
        "df_test['Bathrooms'] = df_test['Bathrooms'].apply(clean_bath)"
      ]
    },
    {
      "cell_type": "code",
      "source": [
        "sns.distplot(df_train['Bathrooms'])"
      ],
      "metadata": {
        "colab": {
          "base_uri": "https://localhost:8080/",
          "height": 353
        },
        "id": "V2EWteqX4oCi",
        "outputId": "a466018f-2873-4e95-f3fa-55e9a7055220"
      },
      "execution_count": null,
      "outputs": [
        {
          "output_type": "stream",
          "name": "stderr",
          "text": [
            "/usr/local/lib/python3.8/dist-packages/seaborn/distributions.py:2619: FutureWarning: `distplot` is a deprecated function and will be removed in a future version. Please adapt your code to use either `displot` (a figure-level function with similar flexibility) or `histplot` (an axes-level function for histograms).\n",
            "  warnings.warn(msg, FutureWarning)\n"
          ]
        },
        {
          "output_type": "execute_result",
          "data": {
            "text/plain": [
              "<matplotlib.axes._subplots.AxesSubplot at 0x7f5d9bf0fa90>"
            ]
          },
          "metadata": {},
          "execution_count": 580
        },
        {
          "output_type": "display_data",
          "data": {
            "text/plain": [
              "<Figure size 432x288 with 1 Axes>"
            ],
            "image/png": "[encoded data removed]"
          },
          "metadata": {
            "needs_background": "light"
          }
        }
      ]
    },
    {
      "cell_type": "code",
      "execution_count": null,
      "metadata": {
        "id": "3Gsf3Y0FcrHd"
      },
      "outputs": [],
      "source": [
        "df_train['Bathrooms'].fillna(df_train['Bathrooms'].mean(),inplace=True)\n",
        "df_test['Bathrooms'].fillna(df_test['Bathrooms'].mean(),inplace=True)\n",
        "df_train['Bathrooms'] = df_train['Bathrooms'].astype(int)\n",
        "df_test['Bathrooms'] = df_test['Bathrooms'].astype(int)\n",
        "df_val['Bathrooms'].fillna(df_val['Bathrooms'].mean(),inplace=True)\n",
        "df_val['Bathrooms'] = df_val['Bathrooms'].astype(int)"
      ]
    },
    {
      "cell_type": "markdown",
      "metadata": {
        "id": "2Q7dba_YNgfX"
      },
      "source": [
        "Cleaning Facing column"
      ]
    },
    {
      "cell_type": "code",
      "execution_count": null,
      "metadata": {
        "id": "g1Cscn9JJYch"
      },
      "outputs": [],
      "source": [
        "def clean_facing(val):\n",
        "  if val in ['North','East','West','South','Main Road','North - East','North - West','South - West','South - East']:\n",
        "    return val\n",
        "  return None\n",
        "df_train['Facing']=df_train['Facing'].apply(clean_facing)\n",
        "df_test['Facing']=df_test['Facing'].apply(clean_facing)\n",
        "df_val['Facing']=df_val['Facing'].apply(lambda x:x.capitalize())\n",
        "df_val['Facing']=df_val['Facing'].apply(clean_facing)"
      ]
    },
    {
      "cell_type": "code",
      "source": [
        "plt.figure(figsize=(15,5))\n",
        "sns.countplot(df_train['Facing'])"
      ],
      "metadata": {
        "colab": {
          "base_uri": "https://localhost:8080/",
          "height": 408
        },
        "id": "tSNdzXe_5eNZ",
        "outputId": "8af86e33-bee4-46b9-cd8f-c35b38586661"
      },
      "execution_count": null,
      "outputs": [
        {
          "output_type": "stream",
          "name": "stderr",
          "text": [
            "/usr/local/lib/python3.8/dist-packages/seaborn/_decorators.py:36: FutureWarning: Pass the following variable as a keyword arg: x. From version 0.12, the only valid positional argument will be `data`, and passing other arguments without an explicit keyword will result in an error or misinterpretation.\n",
            "  warnings.warn(\n"
          ]
        },
        {
          "output_type": "execute_result",
          "data": {
            "text/plain": [
              "<matplotlib.axes._subplots.AxesSubplot at 0x7f5d9c1275b0>"
            ]
          },
          "metadata": {},
          "execution_count": 583
        },
        {
          "output_type": "display_data",
          "data": {
            "text/plain": [
              "<Figure size 1080x360 with 1 Axes>"
            ],
            "image/png": "[encoded data removed]"
          },
          "metadata": {
            "needs_background": "light"
          }
        }
      ]
    },
    {
      "cell_type": "code",
      "execution_count": null,
      "metadata": {
        "id": "A7jSKyxYJYZ7"
      },
      "outputs": [],
      "source": [
        "df_train['Facing'].fillna(df_train['Facing'].mode()[0],inplace=True)\n",
        "df_test['Facing'].fillna(df_test['Facing'].mode()[0],inplace=True)\n",
        "df_val['Facing'].fillna(df_val['Facing'].mode()[0],inplace=True)"
      ]
    },
    {
      "cell_type": "markdown",
      "metadata": {
        "id": "xIura1_UefYe"
      },
      "source": [
        "Cleaning Furnishing column"
      ]
    },
    {
      "cell_type": "code",
      "execution_count": null,
      "metadata": {
        "id": "eqzbA91XeRls"
      },
      "outputs": [],
      "source": [
        "def clean_furnish(val):\n",
        "  if val in ['Unfurnished','Furnished','Semi-Furnished']:\n",
        "    return val\n",
        "  return None\n",
        "df_train['Furnishing']=df_train['Furnishing'].apply(clean_furnish)\n",
        "df_test['Furnishing']=df_test['Furnishing'].apply(clean_furnish)\n",
        "df_val['Furnishing']=df_val['Furnishing'].apply(clean_furnish)"
      ]
    },
    {
      "cell_type": "code",
      "source": [
        "sns.countplot(df_train['Furnishing'])"
      ],
      "metadata": {
        "colab": {
          "base_uri": "https://localhost:8080/",
          "height": 353
        },
        "id": "bjxJCL0F55pq",
        "outputId": "36661207-cdd7-4dac-9591-5a231b5d8571"
      },
      "execution_count": null,
      "outputs": [
        {
          "output_type": "stream",
          "name": "stderr",
          "text": [
            "/usr/local/lib/python3.8/dist-packages/seaborn/_decorators.py:36: FutureWarning: Pass the following variable as a keyword arg: x. From version 0.12, the only valid positional argument will be `data`, and passing other arguments without an explicit keyword will result in an error or misinterpretation.\n",
            "  warnings.warn(\n"
          ]
        },
        {
          "output_type": "execute_result",
          "data": {
            "text/plain": [
              "<matplotlib.axes._subplots.AxesSubplot at 0x7f5d9be6ad30>"
            ]
          },
          "metadata": {},
          "execution_count": 586
        },
        {
          "output_type": "display_data",
          "data": {
            "text/plain": [
              "<Figure size 432x288 with 1 Axes>"
            ],
            "image/png": "[encoded data removed]"
          },
          "metadata": {
            "needs_background": "light"
          }
        }
      ]
    },
    {
      "cell_type": "code",
      "execution_count": null,
      "metadata": {
        "id": "7d-w7EjjeRiJ"
      },
      "outputs": [],
      "source": [
        "df_train['Furnishing'].fillna(df_train['Furnishing'].mode()[0],inplace=True)\n",
        "df_test['Furnishing'].fillna(df_test['Furnishing'].mode()[0],inplace=True)\n",
        "df_val['Furnishing'].fillna(df_val['Furnishing'].mode()[0],inplace=True)"
      ]
    },
    {
      "cell_type": "markdown",
      "metadata": {
        "id": "4OXCAzoygZ0G"
      },
      "source": [
        "Cleaning Tennants column"
      ]
    },
    {
      "cell_type": "markdown",
      "metadata": {
        "id": "s6RrDb5iHVbY"
      },
      "source": [
        "Convert the Multi-Value Column ('Tennants') to Multiple Rows"
      ]
    },
    {
      "cell_type": "code",
      "execution_count": null,
      "metadata": {
        "id": "XHv96Y7IEz3g"
      },
      "outputs": [],
      "source": [
        "# df_train['Tennants']=df_train['Tennants'].str.split(\"/\")\n",
        "# df_train=df_train.explode('Tennants')\n",
        "# df_test['Tennants']=df_test['Tennants'].str.split(\"/\")\n",
        "# df_test=df_test.explode('Tennants')"
      ]
    },
    {
      "cell_type": "code",
      "execution_count": null,
      "metadata": {
        "id": "70hKn7zleRgk"
      },
      "outputs": [],
      "source": [
        "def clean_ten(val):\n",
        "  if val in ['Family','Bachelors','Bachelors/Family']:\n",
        "    return val\n",
        "  return None\n",
        "df_train['Tennants']=df_train['Tennants'].apply(clean_ten)\n",
        "df_test['Tennants']=df_test['Tennants'].apply(clean_ten)\n",
        "df_val['Tennants']=df_val['Tennants'].apply(clean_ten)"
      ]
    },
    {
      "cell_type": "code",
      "source": [
        "sns.countplot(df_train['Tennants'])"
      ],
      "metadata": {
        "colab": {
          "base_uri": "https://localhost:8080/",
          "height": 353
        },
        "id": "Xb5wVPtO6QlJ",
        "outputId": "bb653ca0-d6f7-4af3-f25d-82df13c9057a"
      },
      "execution_count": null,
      "outputs": [
        {
          "output_type": "stream",
          "name": "stderr",
          "text": [
            "/usr/local/lib/python3.8/dist-packages/seaborn/_decorators.py:36: FutureWarning: Pass the following variable as a keyword arg: x. From version 0.12, the only valid positional argument will be `data`, and passing other arguments without an explicit keyword will result in an error or misinterpretation.\n",
            "  warnings.warn(\n"
          ]
        },
        {
          "output_type": "execute_result",
          "data": {
            "text/plain": [
              "<matplotlib.axes._subplots.AxesSubplot at 0x7f5d9be68490>"
            ]
          },
          "metadata": {},
          "execution_count": 590
        },
        {
          "output_type": "display_data",
          "data": {
            "text/plain": [
              "<Figure size 432x288 with 1 Axes>"
            ],
            "image/png": "[encoded data removed]"
          },
          "metadata": {
            "needs_background": "light"
          }
        }
      ]
    },
    {
      "cell_type": "code",
      "execution_count": null,
      "metadata": {
        "id": "u-4uQ_LKeRen"
      },
      "outputs": [],
      "source": [
        "df_train['Tennants'].fillna(df_train['Tennants'].mode()[0],inplace=True)\n",
        "df_test['Tennants'].fillna(df_test['Tennants'].mode()[0],inplace=True)\n",
        "df_val['Tennants'].fillna(df_val['Tennants'].mode()[0],inplace=True)"
      ]
    },
    {
      "cell_type": "markdown",
      "metadata": {
        "id": "zJSPh9whiYt7"
      },
      "source": [
        "Cleaning Area Column"
      ]
    },
    {
      "cell_type": "code",
      "source": [
        "df_train['Area'].fillna('k',inplace=True)\n",
        "df_test['Area'].fillna('k',inplace=True)\n",
        "df_val['Area'].fillna('k',inplace=True)"
      ],
      "metadata": {
        "id": "FExZ6J5YsPlk"
      },
      "execution_count": null,
      "outputs": []
    },
    {
      "cell_type": "code",
      "execution_count": null,
      "metadata": {
        "id": "typw4r6HeRXp"
      },
      "outputs": [],
      "source": [
        "def clean_area(val):\n",
        "  val=str(val)\n",
        "  if val=='k' or val=='read more':\n",
        "    return 0  \n",
        "  if ',' in val:\n",
        "    val=val.replace(\",\",\"\")\n",
        "  if val.endswith('sqyrd'):\n",
        "    return int(val.strip('sqyrd'))*9\n",
        "  elif val.endswith('ground'):\n",
        "    return int(val.strip('ground'))*2400\n",
        "  return int(val.strip('sqft'))\n",
        "df_train['Area']=df_train['Area'].apply(clean_area)\n",
        "df_test['Area']=df_test['Area'].apply(clean_area)\n",
        "df_val['Area']=df_val['Area'].apply(clean_area)"
      ]
    },
    {
      "cell_type": "code",
      "execution_count": null,
      "metadata": {
        "id": "HaI0COuYeRUG"
      },
      "outputs": [],
      "source": [
        "df_train['Area'].replace(0,df_train['Area'].mean(),inplace=True)\n",
        "df_train['Area']=df_train['Area'].astype(int)\n",
        "df_test['Area'].replace(0,df_test['Area'].mean(),inplace=True)\n",
        "df_test['Area']=df_test['Area'].astype(int)\n",
        "df_val['Area'].replace(0,df_val['Area'].mean(),inplace=True)\n",
        "df_val['Area']=df_val['Area'].astype(int)"
      ]
    },
    {
      "cell_type": "markdown",
      "source": [
        "Cleaning Price column"
      ],
      "metadata": {
        "id": "fgSr5pOpSTZw"
      }
    },
    {
      "cell_type": "code",
      "source": [
        "def clean_price(val):\n",
        "  val=str(val)\n",
        "  if ',' in val:\n",
        "    val=val.replace(\",\",\"\")\n",
        "  return int(val)\n",
        "  \n",
        "df_train['Price']=df_train['Price'].apply(clean_price)\n",
        "df_test['Price']=df_test['Price'].apply(clean_price)"
      ],
      "metadata": {
        "id": "2TvYVuBVSTHi"
      },
      "execution_count": null,
      "outputs": []
    },
    {
      "cell_type": "markdown",
      "source": [
        "Cleaning Location and Pincode"
      ],
      "metadata": {
        "id": "_X-sYXqPx-Ce"
      }
    },
    {
      "cell_type": "code",
      "source": [
        "df_train['Location'].fillna(df_train['Location'].mode()[0],inplace=True)\n",
        "df_test['Location'].fillna(df_test['Location'].mode()[0],inplace=True)\n",
        "df_val['Location'].fillna(df_val['Location'].mode()[0],inplace=True)"
      ],
      "metadata": {
        "id": "O-MtQfpVyY3S"
      },
      "execution_count": null,
      "outputs": []
    },
    {
      "cell_type": "code",
      "source": [
        "df_train['Pincode'].fillna(df_train['Pincode'].mode()[0],inplace=True)\n",
        "df_test['Pincode'].fillna(df_test['Pincode'].mode()[0],inplace=True)\n",
        "df_train['Pincode']=df_train['Pincode'].astype(int)\n",
        "df_test['Pincode']=df_test['Pincode'].astype(int)"
      ],
      "metadata": {
        "id": "Gh-nnPasyY1D"
      },
      "execution_count": null,
      "outputs": []
    },
    {
      "cell_type": "code",
      "execution_count": null,
      "metadata": {
        "id": "ZY3BL5OCeRRv",
        "colab": {
          "base_uri": "https://localhost:8080/",
          "height": 285
        },
        "outputId": "b91fae5e-6048-43ba-8abd-08f385086fff"
      },
      "outputs": [
        {
          "output_type": "execute_result",
          "data": {
            "text/plain": [
              "              Bedrooms  Bathrooms     Facing      Furnishing  \\\n",
              "0      3 BHK Apartment          2       East       Furnished   \n",
              "1      3 BHK Apartment          2       East     Unfurnished   \n",
              "2  3 BHK Builder Floor          2  Main Road  Semi-Furnished   \n",
              "3      3 BHK Apartment          2       East  Semi-Furnished   \n",
              "4      2 BHK Apartment          2       East       Furnished   \n",
              "\n",
              "           Tennants  Area  Price                      Locality      Location  \\\n",
              "0  Bachelors/Family  1800  35000               Khairatabad, NH   Khairatabad   \n",
              "1         Bachelors  1495  23000   SMR Vinay City, Miyapur, NH       Miyapur   \n",
              "2  Bachelors/Family  1800  16000              Old Malakpet, NH  Dilshuknagar   \n",
              "3  Bachelors/Family  1200  20000  Brindavan Colony-Toli Chowki   Mehdipatnam   \n",
              "4  Bachelors/Family  1050  28000        Police Colony-Kondapur      Kondapur   \n",
              "\n",
              "   Pincode  \n",
              "0   500004  \n",
              "1   500050  \n",
              "2   500068  \n",
              "3   500028  \n",
              "4   500032  "
            ],
            "text/html": [
              "\n",
              "  <div id=\"df-551ed953-fe12-414d-943e-214a3c9c6c36\">\n",
              "    <div class=\"colab-df-container\">\n",
              "      <div>\n",
              "<style scoped>\n",
              "    .dataframe tbody tr th:only-of-type {\n",
              "        vertical-align: middle;\n",
              "    }\n",
              "\n",
              "    .dataframe tbody tr th {\n",
              "        vertical-align: top;\n",
              "    }\n",
              "\n",
              "    .dataframe thead th {\n",
              "        text-align: right;\n",
              "    }\n",
              "</style>\n",
              "<table border=\"1\" class=\"dataframe\">\n",
              "  <thead>\n",
              "    <tr style=\"text-align: right;\">\n",
              "      <th></th>\n",
              "      <th>Bedrooms</th>\n",
              "      <th>Bathrooms</th>\n",
              "      <th>Facing</th>\n",
              "      <th>Furnishing</th>\n",
              "      <th>Tennants</th>\n",
              "      <th>Area</th>\n",
              "      <th>Price</th>\n",
              "      <th>Locality</th>\n",
              "      <th>Location</th>\n",
              "      <th>Pincode</th>\n",
              "    </tr>\n",
              "  </thead>\n",
              "  <tbody>\n",
              "    <tr>\n",
              "      <th>0</th>\n",
              "      <td>3 BHK Apartment</td>\n",
              "      <td>2</td>\n",
              "      <td>East</td>\n",
              "      <td>Furnished</td>\n",
              "      <td>Bachelors/Family</td>\n",
              "      <td>1800</td>\n",
              "      <td>35000</td>\n",
              "      <td>Khairatabad, NH</td>\n",
              "      <td>Khairatabad</td>\n",
              "      <td>500004</td>\n",
              "    </tr>\n",
              "    <tr>\n",
              "      <th>1</th>\n",
              "      <td>3 BHK Apartment</td>\n",
              "      <td>2</td>\n",
              "      <td>East</td>\n",
              "      <td>Unfurnished</td>\n",
              "      <td>Bachelors</td>\n",
              "      <td>1495</td>\n",
              "      <td>23000</td>\n",
              "      <td>SMR Vinay City, Miyapur, NH</td>\n",
              "      <td>Miyapur</td>\n",
              "      <td>500050</td>\n",
              "    </tr>\n",
              "    <tr>\n",
              "      <th>2</th>\n",
              "      <td>3 BHK Builder Floor</td>\n",
              "      <td>2</td>\n",
              "      <td>Main Road</td>\n",
              "      <td>Semi-Furnished</td>\n",
              "      <td>Bachelors/Family</td>\n",
              "      <td>1800</td>\n",
              "      <td>16000</td>\n",
              "      <td>Old Malakpet, NH</td>\n",
              "      <td>Dilshuknagar</td>\n",
              "      <td>500068</td>\n",
              "    </tr>\n",
              "    <tr>\n",
              "      <th>3</th>\n",
              "      <td>3 BHK Apartment</td>\n",
              "      <td>2</td>\n",
              "      <td>East</td>\n",
              "      <td>Semi-Furnished</td>\n",
              "      <td>Bachelors/Family</td>\n",
              "      <td>1200</td>\n",
              "      <td>20000</td>\n",
              "      <td>Brindavan Colony-Toli Chowki</td>\n",
              "      <td>Mehdipatnam</td>\n",
              "      <td>500028</td>\n",
              "    </tr>\n",
              "    <tr>\n",
              "      <th>4</th>\n",
              "      <td>2 BHK Apartment</td>\n",
              "      <td>2</td>\n",
              "      <td>East</td>\n",
              "      <td>Furnished</td>\n",
              "      <td>Bachelors/Family</td>\n",
              "      <td>1050</td>\n",
              "      <td>28000</td>\n",
              "      <td>Police Colony-Kondapur</td>\n",
              "      <td>Kondapur</td>\n",
              "      <td>500032</td>\n",
              "    </tr>\n",
              "  </tbody>\n",
              "</table>\n",
              "</div>\n",
              "      <button class=\"colab-df-convert\" onclick=\"convertToInteractive('df-551ed953-fe12-414d-943e-214a3c9c6c36')\"\n",
              "              title=\"Convert this dataframe to an interactive table.\"\n",
              "              style=\"display:none;\">\n",
              "        \n",
              "  <svg xmlns=\"http://www.w3.org/2000/svg\" height=\"24px\"viewBox=\"0 0 24 24\"\n",
              "       width=\"24px\">\n",
              "    <path d=\"M0 0h24v24H0V0z\" fill=\"none\"/>\n",
              "    <path d=\"M18.56 5.44l.94 2.06.94-2.06 2.06-.94-2.06-.94-.94-2.06-.94 2.06-2.06.94zm-11 1L8.5 8.5l.94-2.06 2.06-.94-2.06-.94L8.5 2.5l-.94 2.06-2.06.94zm10 10l.94 2.06.94-2.06 2.06-.94-2.06-.94-.94-2.06-.94 2.06-2.06.94z\"/><path d=\"M17.41 7.96l-1.37-1.37c-.4-.4-.92-.59-1.43-.59-.52 0-1.04.2-1.43.59L10.3 9.45l-7.72 7.72c-.78.78-.78 2.05 0 2.83L4 21.41c.39.39.9.59 1.41.59.51 0 1.02-.2 1.41-.59l7.78-7.78 2.81-2.81c.8-.78.8-2.07 0-2.86zM5.41 20L4 18.59l7.72-7.72 1.47 1.35L5.41 20z\"/>\n",
              "  </svg>\n",
              "      </button>\n",
              "      \n",
              "  <style>\n",
              "    .colab-df-container {\n",
              "      display:flex;\n",
              "      flex-wrap:wrap;\n",
              "      gap: 12px;\n",
              "    }\n",
              "\n",
              "    .colab-df-convert {\n",
              "      background-color: #E8F0FE;\n",
              "      border: none;\n",
              "      border-radius: 50%;\n",
              "      cursor: pointer;\n",
              "      display: none;\n",
              "      fill: #1967D2;\n",
              "      height: 32px;\n",
              "      padding: 0 0 0 0;\n",
              "      width: 32px;\n",
              "    }\n",
              "\n",
              "    .colab-df-convert:hover {\n",
              "      background-color: #E2EBFA;\n",
              "      box-shadow: 0px 1px 2px rgba(60, 64, 67, 0.3), 0px 1px 3px 1px rgba(60, 64, 67, 0.15);\n",
              "      fill: #174EA6;\n",
              "    }\n",
              "\n",
              "    [theme=dark] .colab-df-convert {\n",
              "      background-color: #3B4455;\n",
              "      fill: #D2E3FC;\n",
              "    }\n",
              "\n",
              "    [theme=dark] .colab-df-convert:hover {\n",
              "      background-color: #434B5C;\n",
              "      box-shadow: 0px 1px 3px 1px rgba(0, 0, 0, 0.15);\n",
              "      filter: drop-shadow(0px 1px 2px rgba(0, 0, 0, 0.3));\n",
              "      fill: #FFFFFF;\n",
              "    }\n",
              "  </style>\n",
              "\n",
              "      <script>\n",
              "        const buttonEl =\n",
              "          document.querySelector('#df-551ed953-fe12-414d-943e-214a3c9c6c36 button.colab-df-convert');\n",
              "        buttonEl.style.display =\n",
              "          google.colab.kernel.accessAllowed ? 'block' : 'none';\n",
              "\n",
              "        async function convertToInteractive(key) {\n",
              "          const element = document.querySelector('#df-551ed953-fe12-414d-943e-214a3c9c6c36');\n",
              "          const dataTable =\n",
              "            await google.colab.kernel.invokeFunction('convertToInteractive',\n",
              "                                                     [key], {});\n",
              "          if (!dataTable) return;\n",
              "\n",
              "          const docLinkHtml = 'Like what you see? Visit the ' +\n",
              "            '<a target=\"_blank\" href=https://colab.research.google.com/notebooks/data_table.ipynb>data table notebook</a>'\n",
              "            + ' to learn more about interactive tables.';\n",
              "          element.innerHTML = '';\n",
              "          dataTable['output_type'] = 'display_data';\n",
              "          await google.colab.output.renderOutput(dataTable, element);\n",
              "          const docLink = document.createElement('div');\n",
              "          docLink.innerHTML = docLinkHtml;\n",
              "          element.appendChild(docLink);\n",
              "        }\n",
              "      </script>\n",
              "    </div>\n",
              "  </div>\n",
              "  "
            ]
          },
          "metadata": {},
          "execution_count": 598
        }
      ],
      "source": [
        "df_train.head()"
      ]
    },
    {
      "cell_type": "code",
      "execution_count": null,
      "metadata": {
        "id": "SPHx849PAm-l",
        "colab": {
          "base_uri": "https://localhost:8080/",
          "height": 337
        },
        "outputId": "954b603f-9881-4a82-c2d2-bf5f14d1f32e"
      },
      "outputs": [
        {
          "output_type": "execute_result",
          "data": {
            "text/plain": [
              "          Bedrooms  Bathrooms Facing      Furnishing          Tennants  Area  \\\n",
              "0  2 BHK Apartment          2   East  Semi-Furnished  Bachelors/Family  1200   \n",
              "1  3 BHK Apartment          3   West  Semi-Furnished  Bachelors/Family  1834   \n",
              "2  2 BHK Apartment          2   East     Unfurnished         Bachelors  1493   \n",
              "3  2 BHK Apartment          2   East  Semi-Furnished  Bachelors/Family  1100   \n",
              "4  2 BHK Apartment          2   East  Semi-Furnished            Family  1200   \n",
              "\n",
              "   Price                                   Locality    Location  Pincode  \n",
              "0  10000                                Uppal Metro       Uppal   500007  \n",
              "1  40000  My Home Avatar, Narsingi, Outer Ring Road    Narsingi   500032  \n",
              "2   9500                                  Uppal, NH       Uppal   500007  \n",
              "3  13000                         New Bowenpally, NH  Bowenpally   500067  \n",
              "4  16000                                       KPHB        KPHB   500018  "
            ],
            "text/html": [
              "\n",
              "  <div id=\"df-dfdcde52-1ea6-4175-ae1b-ca6b5978722e\">\n",
              "    <div class=\"colab-df-container\">\n",
              "      <div>\n",
              "<style scoped>\n",
              "    .dataframe tbody tr th:only-of-type {\n",
              "        vertical-align: middle;\n",
              "    }\n",
              "\n",
              "    .dataframe tbody tr th {\n",
              "        vertical-align: top;\n",
              "    }\n",
              "\n",
              "    .dataframe thead th {\n",
              "        text-align: right;\n",
              "    }\n",
              "</style>\n",
              "<table border=\"1\" class=\"dataframe\">\n",
              "  <thead>\n",
              "    <tr style=\"text-align: right;\">\n",
              "      <th></th>\n",
              "      <th>Bedrooms</th>\n",
              "      <th>Bathrooms</th>\n",
              "      <th>Facing</th>\n",
              "      <th>Furnishing</th>\n",
              "      <th>Tennants</th>\n",
              "      <th>Area</th>\n",
              "      <th>Price</th>\n",
              "      <th>Locality</th>\n",
              "      <th>Location</th>\n",
              "      <th>Pincode</th>\n",
              "    </tr>\n",
              "  </thead>\n",
              "  <tbody>\n",
              "    <tr>\n",
              "      <th>0</th>\n",
              "      <td>2 BHK Apartment</td>\n",
              "      <td>2</td>\n",
              "      <td>East</td>\n",
              "      <td>Semi-Furnished</td>\n",
              "      <td>Bachelors/Family</td>\n",
              "      <td>1200</td>\n",
              "      <td>10000</td>\n",
              "      <td>Uppal Metro</td>\n",
              "      <td>Uppal</td>\n",
              "      <td>500007</td>\n",
              "    </tr>\n",
              "    <tr>\n",
              "      <th>1</th>\n",
              "      <td>3 BHK Apartment</td>\n",
              "      <td>3</td>\n",
              "      <td>West</td>\n",
              "      <td>Semi-Furnished</td>\n",
              "      <td>Bachelors/Family</td>\n",
              "      <td>1834</td>\n",
              "      <td>40000</td>\n",
              "      <td>My Home Avatar, Narsingi, Outer Ring Road</td>\n",
              "      <td>Narsingi</td>\n",
              "      <td>500032</td>\n",
              "    </tr>\n",
              "    <tr>\n",
              "      <th>2</th>\n",
              "      <td>2 BHK Apartment</td>\n",
              "      <td>2</td>\n",
              "      <td>East</td>\n",
              "      <td>Unfurnished</td>\n",
              "      <td>Bachelors</td>\n",
              "      <td>1493</td>\n",
              "      <td>9500</td>\n",
              "      <td>Uppal, NH</td>\n",
              "      <td>Uppal</td>\n",
              "      <td>500007</td>\n",
              "    </tr>\n",
              "    <tr>\n",
              "      <th>3</th>\n",
              "      <td>2 BHK Apartment</td>\n",
              "      <td>2</td>\n",
              "      <td>East</td>\n",
              "      <td>Semi-Furnished</td>\n",
              "      <td>Bachelors/Family</td>\n",
              "      <td>1100</td>\n",
              "      <td>13000</td>\n",
              "      <td>New Bowenpally, NH</td>\n",
              "      <td>Bowenpally</td>\n",
              "      <td>500067</td>\n",
              "    </tr>\n",
              "    <tr>\n",
              "      <th>4</th>\n",
              "      <td>2 BHK Apartment</td>\n",
              "      <td>2</td>\n",
              "      <td>East</td>\n",
              "      <td>Semi-Furnished</td>\n",
              "      <td>Family</td>\n",
              "      <td>1200</td>\n",
              "      <td>16000</td>\n",
              "      <td>KPHB</td>\n",
              "      <td>KPHB</td>\n",
              "      <td>500018</td>\n",
              "    </tr>\n",
              "  </tbody>\n",
              "</table>\n",
              "</div>\n",
              "      <button class=\"colab-df-convert\" onclick=\"convertToInteractive('df-dfdcde52-1ea6-4175-ae1b-ca6b5978722e')\"\n",
              "              title=\"Convert this dataframe to an interactive table.\"\n",
              "              style=\"display:none;\">\n",
              "        \n",
              "  <svg xmlns=\"http://www.w3.org/2000/svg\" height=\"24px\"viewBox=\"0 0 24 24\"\n",
              "       width=\"24px\">\n",
              "    <path d=\"M0 0h24v24H0V0z\" fill=\"none\"/>\n",
              "    <path d=\"M18.56 5.44l.94 2.06.94-2.06 2.06-.94-2.06-.94-.94-2.06-.94 2.06-2.06.94zm-11 1L8.5 8.5l.94-2.06 2.06-.94-2.06-.94L8.5 2.5l-.94 2.06-2.06.94zm10 10l.94 2.06.94-2.06 2.06-.94-2.06-.94-.94-2.06-.94 2.06-2.06.94z\"/><path d=\"M17.41 7.96l-1.37-1.37c-.4-.4-.92-.59-1.43-.59-.52 0-1.04.2-1.43.59L10.3 9.45l-7.72 7.72c-.78.78-.78 2.05 0 2.83L4 21.41c.39.39.9.59 1.41.59.51 0 1.02-.2 1.41-.59l7.78-7.78 2.81-2.81c.8-.78.8-2.07 0-2.86zM5.41 20L4 18.59l7.72-7.72 1.47 1.35L5.41 20z\"/>\n",
              "  </svg>\n",
              "      </button>\n",
              "      \n",
              "  <style>\n",
              "    .colab-df-container {\n",
              "      display:flex;\n",
              "      flex-wrap:wrap;\n",
              "      gap: 12px;\n",
              "    }\n",
              "\n",
              "    .colab-df-convert {\n",
              "      background-color: #E8F0FE;\n",
              "      border: none;\n",
              "      border-radius: 50%;\n",
              "      cursor: pointer;\n",
              "      display: none;\n",
              "      fill: #1967D2;\n",
              "      height: 32px;\n",
              "      padding: 0 0 0 0;\n",
              "      width: 32px;\n",
              "    }\n",
              "\n",
              "    .colab-df-convert:hover {\n",
              "      background-color: #E2EBFA;\n",
              "      box-shadow: 0px 1px 2px rgba(60, 64, 67, 0.3), 0px 1px 3px 1px rgba(60, 64, 67, 0.15);\n",
              "      fill: #174EA6;\n",
              "    }\n",
              "\n",
              "    [theme=dark] .colab-df-convert {\n",
              "      background-color: #3B4455;\n",
              "      fill: #D2E3FC;\n",
              "    }\n",
              "\n",
              "    [theme=dark] .colab-df-convert:hover {\n",
              "      background-color: #434B5C;\n",
              "      box-shadow: 0px 1px 3px 1px rgba(0, 0, 0, 0.15);\n",
              "      filter: drop-shadow(0px 1px 2px rgba(0, 0, 0, 0.3));\n",
              "      fill: #FFFFFF;\n",
              "    }\n",
              "  </style>\n",
              "\n",
              "      <script>\n",
              "        const buttonEl =\n",
              "          document.querySelector('#df-dfdcde52-1ea6-4175-ae1b-ca6b5978722e button.colab-df-convert');\n",
              "        buttonEl.style.display =\n",
              "          google.colab.kernel.accessAllowed ? 'block' : 'none';\n",
              "\n",
              "        async function convertToInteractive(key) {\n",
              "          const element = document.querySelector('#df-dfdcde52-1ea6-4175-ae1b-ca6b5978722e');\n",
              "          const dataTable =\n",
              "            await google.colab.kernel.invokeFunction('convertToInteractive',\n",
              "                                                     [key], {});\n",
              "          if (!dataTable) return;\n",
              "\n",
              "          const docLinkHtml = 'Like what you see? Visit the ' +\n",
              "            '<a target=\"_blank\" href=https://colab.research.google.com/notebooks/data_table.ipynb>data table notebook</a>'\n",
              "            + ' to learn more about interactive tables.';\n",
              "          element.innerHTML = '';\n",
              "          dataTable['output_type'] = 'display_data';\n",
              "          await google.colab.output.renderOutput(dataTable, element);\n",
              "          const docLink = document.createElement('div');\n",
              "          docLink.innerHTML = docLinkHtml;\n",
              "          element.appendChild(docLink);\n",
              "        }\n",
              "      </script>\n",
              "    </div>\n",
              "  </div>\n",
              "  "
            ]
          },
          "metadata": {},
          "execution_count": 599
        }
      ],
      "source": [
        "df_test.head()"
      ]
    },
    {
      "cell_type": "markdown",
      "source": [
        "### Applying Label encoding"
      ],
      "metadata": {
        "id": "Q3-j1Oeu-DG6"
      }
    },
    {
      "cell_type": "markdown",
      "source": [
        "Categorical columns are encoded"
      ],
      "metadata": {
        "id": "JWSjP_-cQlJp"
      }
    },
    {
      "cell_type": "code",
      "source": [
        "col=['Bedrooms','Facing','Furnishing','Tennants','Locality','Location']"
      ],
      "metadata": {
        "id": "6u2vOkSuQk1d"
      },
      "execution_count": null,
      "outputs": []
    },
    {
      "cell_type": "code",
      "source": [
        "from sklearn.preprocessing import LabelEncoder\n",
        "for i in col:\n",
        "  le=LabelEncoder()\n",
        "  df_train[i]=le.fit_transform(df_train[i])\n",
        "for j in col:\n",
        "  le=LabelEncoder()\n",
        "  df_test[j]=le.fit_transform(df_test[j])\n",
        "for k in col:\n",
        "  le=LabelEncoder()\n",
        "  df_val[k]=le.fit_transform(df_val[k])"
      ],
      "metadata": {
        "id": "3CjlYA7z-Cx6"
      },
      "execution_count": null,
      "outputs": []
    },
    {
      "cell_type": "markdown",
      "source": [
        "checking distribution of target"
      ],
      "metadata": {
        "id": "pphKgnfTCHt0"
      }
    },
    {
      "cell_type": "code",
      "execution_count": null,
      "metadata": {
        "id": "pQEab31FAm5L",
        "colab": {
          "base_uri": "https://localhost:8080/",
          "height": 364
        },
        "outputId": "4bf917ff-c0ce-4e9f-d7aa-4cda854a66df"
      },
      "outputs": [
        {
          "output_type": "stream",
          "name": "stderr",
          "text": [
            "/usr/local/lib/python3.8/dist-packages/seaborn/distributions.py:2619: FutureWarning: `distplot` is a deprecated function and will be removed in a future version. Please adapt your code to use either `displot` (a figure-level function with similar flexibility) or `histplot` (an axes-level function for histograms).\n",
            "  warnings.warn(msg, FutureWarning)\n"
          ]
        },
        {
          "output_type": "execute_result",
          "data": {
            "text/plain": [
              "<matplotlib.axes._subplots.AxesSubplot at 0x7f5d9be96e50>"
            ]
          },
          "metadata": {},
          "execution_count": 602
        },
        {
          "output_type": "display_data",
          "data": {
            "text/plain": [
              "<Figure size 432x288 with 1 Axes>"
            ],
            "image/png": "[encoded data removed]"
          },
          "metadata": {
            "needs_background": "light"
          }
        }
      ],
      "source": [
        "sns.distplot(df_train['Price'])"
      ]
    },
    {
      "cell_type": "code",
      "source": [
        "a = plt.figure()\n",
        "a.set_figwidth(10)\n",
        "a.set_figheight(10)\n",
        "sns.heatmap(df_train.corr(),annot=True)"
      ],
      "metadata": {
        "colab": {
          "base_uri": "https://localhost:8080/",
          "height": 657
        },
        "id": "eT-Atto39bmg",
        "outputId": "5d1d1b7a-86fd-4154-e08f-95b5b5225fd6"
      },
      "execution_count": null,
      "outputs": [
        {
          "output_type": "execute_result",
          "data": {
            "text/plain": [
              "<matplotlib.axes._subplots.AxesSubplot at 0x7f5d9bd98580>"
            ]
          },
          "metadata": {},
          "execution_count": 603
        },
        {
          "output_type": "display_data",
          "data": {
            "text/plain": [
              "<Figure size 720x720 with 2 Axes>"
            ],
            "image/png": "[encoded data removed]"
          },
          "metadata": {
            "needs_background": "light"
          }
        }
      ]
    },
    {
      "cell_type": "markdown",
      "source": [
        "## Visualizing and Exploring Data"
      ],
      "metadata": {
        "id": "CTi7cCL_fXQa"
      }
    },
    {
      "cell_type": "code",
      "source": [
        "import matplotlib.pyplot as plt\n",
        "df_train.hist(bins=50, figsize=(20,15))\n",
        "plt.show()"
      ],
      "metadata": {
        "colab": {
          "base_uri": "https://localhost:8080/",
          "height": 788
        },
        "id": "4DQFiY2Ue9ZK",
        "outputId": "cdd8584b-f03d-40a5-e93c-0b2dad5fa69d"
      },
      "execution_count": null,
      "outputs": [
        {
          "output_type": "display_data",
          "data": {
            "text/plain": [
              "<Figure size 1440x1080 with 12 Axes>"
            ],
            "image/png": "[encoded data removed]"
          },
          "metadata": {
            "needs_background": "light"
          }
        }
      ]
    },
    {
      "cell_type": "markdown",
      "source": [
        "# Feature Selection"
      ],
      "metadata": {
        "id": "l7Ls6QLKMdNS"
      }
    },
    {
      "cell_type": "code",
      "source": [
        "corr_matrix = df_train.corr()\n",
        "corr_matrix[\"Price\"].sort_values(ascending=False)"
      ],
      "metadata": {
        "colab": {
          "base_uri": "https://localhost:8080/"
        },
        "id": "61bn-MnGfMdw",
        "outputId": "7289c19a-9214-487c-e824-8aaf8973ccdd"
      },
      "execution_count": null,
      "outputs": [
        {
          "output_type": "execute_result",
          "data": {
            "text/plain": [
              "Price         1.000000\n",
              "Bedrooms      0.475464\n",
              "Bathrooms     0.290330\n",
              "Tennants      0.080429\n",
              "Facing        0.011489\n",
              "Area         -0.006842\n",
              "Locality     -0.019335\n",
              "Pincode      -0.179023\n",
              "Location     -0.224529\n",
              "Furnishing   -0.391622\n",
              "Name: Price, dtype: float64"
            ]
          },
          "metadata": {},
          "execution_count": 605
        }
      ]
    },
    {
      "cell_type": "markdown",
      "source": [
        "Chi-Square test"
      ],
      "metadata": {
        "id": "_BY70_TyL1L2"
      }
    },
    {
      "cell_type": "code",
      "execution_count": null,
      "metadata": {
        "id": "9wr0VHJgAms8"
      },
      "outputs": [],
      "source": [
        "from sklearn.feature_selection import chi2"
      ]
    },
    {
      "cell_type": "code",
      "execution_count": null,
      "metadata": {
        "id": "T0NzoAwoAmqO"
      },
      "outputs": [],
      "source": [
        "X = df_train.drop('Price',axis=1)\n",
        "y = df_train['Price']"
      ]
    },
    {
      "cell_type": "code",
      "source": [
        "chi_scores = chi2(X,y)"
      ],
      "metadata": {
        "id": "kkwtXLMOMG5k"
      },
      "execution_count": null,
      "outputs": []
    },
    {
      "cell_type": "code",
      "source": [
        "chi_scores"
      ],
      "metadata": {
        "colab": {
          "base_uri": "https://localhost:8080/"
        },
        "id": "o5HGlMsnMJ0n",
        "outputId": "59e2b76f-5480-4d52-c493-ea654262344c"
      },
      "execution_count": null,
      "outputs": [
        {
          "output_type": "execute_result",
          "data": {
            "text/plain": [
              "(array([3.50380134e+02, 4.73632150e+01, 2.96938779e+02, 7.39556165e+01,\n",
              "        2.84065506e+01, 4.09021069e+07, 5.49803772e+03, 7.73869807e+02,\n",
              "        8.63686742e-02]),\n",
              " array([6.57742854e-039, 9.82651355e-001, 9.95178083e-030, 3.50365056e-001,\n",
              "        9.99997686e-001, 0.00000000e+000, 0.00000000e+000, 3.20373255e-119,\n",
              "        1.00000000e+000]))"
            ]
          },
          "metadata": {},
          "execution_count": 609
        }
      ]
    },
    {
      "cell_type": "markdown",
      "source": [
        "here first array represents chi square values and second array represnts p-values"
      ],
      "metadata": {
        "id": "YqRAlxZpMMuQ"
      }
    },
    {
      "cell_type": "code",
      "source": [
        "p_values = pd.Series(chi_scores[1],index = X.columns)\n",
        "p_values.sort_values(ascending = False , inplace = True)"
      ],
      "metadata": {
        "id": "qcnbgpmQMJxM"
      },
      "execution_count": null,
      "outputs": []
    },
    {
      "cell_type": "code",
      "source": [
        "p_values.plot.bar()"
      ],
      "metadata": {
        "colab": {
          "base_uri": "https://localhost:8080/",
          "height": 327
        },
        "id": "jseOORVUMJvN",
        "outputId": "d390e45a-ed2b-4245-e93a-19a78c133209"
      },
      "execution_count": null,
      "outputs": [
        {
          "output_type": "execute_result",
          "data": {
            "text/plain": [
              "<matplotlib.axes._subplots.AxesSubplot at 0x7f5d9c4ca820>"
            ]
          },
          "metadata": {},
          "execution_count": 611
        },
        {
          "output_type": "display_data",
          "data": {
            "text/plain": [
              "<Figure size 432x288 with 1 Axes>"
            ],
            "image/png": "[encoded data removed]"
          },
          "metadata": {
            "needs_background": "light"
          }
        }
      ]
    },
    {
      "cell_type": "markdown",
      "source": [
        "## Since Tennants,Pincode,Bathrooms has higher the p-value, it says that this variables is independent of the repsone and can not be considered for model training"
      ],
      "metadata": {
        "id": "hQiY27hrMWsw"
      }
    },
    {
      "cell_type": "markdown",
      "source": [
        "## Based on Correlation, and Chi-Squared test, these are the selected features:\n",
        "\n",
        "\n",
        "*   Furnishing\n",
        "*   Facing\n",
        "*   Bedrooms\n",
        "*   Location\n",
        "*   Area\n",
        "*   Locality\n",
        "\n",
        "\n",
        "\n",
        "\n",
        "\n",
        "\n",
        "\n"
      ],
      "metadata": {
        "id": "Bi9yfryEUGrj"
      }
    },
    {
      "cell_type": "code",
      "source": [
        "X_train = df_train.drop(['Price','Tennants','Pincode','Bathrooms'],axis=1)\n",
        "Y_train = df_train['Price']\n",
        "X_test = df_test.drop(['Price','Tennants','Pincode','Bathrooms'],axis=1)\n",
        "Y_test = df_test['Price']"
      ],
      "metadata": {
        "id": "MtzVtPeyMJtB"
      },
      "execution_count": null,
      "outputs": []
    },
    {
      "cell_type": "code",
      "source": [
        "from sklearn.preprocessing import StandardScaler\n",
        "s=StandardScaler()\n",
        "X_train_s=s.fit_transform(X_train)\n",
        "X_test_s=s.fit_transform(X_test)\n"
      ],
      "metadata": {
        "id": "WTlE5WLci_T_"
      },
      "execution_count": null,
      "outputs": []
    },
    {
      "cell_type": "markdown",
      "metadata": {
        "id": "booWvnYmo9CC"
      },
      "source": [
        "# **Model training ( any ML model)**\n",
        "\n",
        "Use train dataset only"
      ]
    },
    {
      "cell_type": "markdown",
      "source": [
        "### When the target variable is continuous, regression models are commonly used to make predictions. Some popular regression models include:\n",
        "1. Linear Regression\n",
        "2. Decision Tree Regressor\n",
        "3. Random Forest regressor\n",
        "4. SVR"
      ],
      "metadata": {
        "id": "Oz1XvuDKUwhF"
      }
    },
    {
      "cell_type": "markdown",
      "source": [
        "# Linear Regression"
      ],
      "metadata": {
        "id": "4bSDh-dY2Idj"
      }
    },
    {
      "cell_type": "code",
      "source": [
        "from sklearn.linear_model import LinearRegression\n",
        "\n",
        "lin_reg = LinearRegression()\n",
        "lin_reg.fit(X_train_s, Y_train)"
      ],
      "metadata": {
        "colab": {
          "base_uri": "https://localhost:8080/"
        },
        "id": "ijpJpVnZk9sJ",
        "outputId": "0d700a3e-1de7-4ec8-bf9c-8a020761ca96"
      },
      "execution_count": null,
      "outputs": [
        {
          "output_type": "execute_result",
          "data": {
            "text/plain": [
              "LinearRegression()"
            ]
          },
          "metadata": {},
          "execution_count": 614
        }
      ]
    },
    {
      "cell_type": "code",
      "source": [
        "from sklearn.metrics import mean_squared_error  \n",
        "Y_pred = lin_reg.predict(X_test_s) \n",
        "lin_mse = mean_squared_error(Y_test,Y_pred)\n",
        "lin_rmse = np.sqrt(lin_mse) \n",
        "lin_rmse"
      ],
      "metadata": {
        "colab": {
          "base_uri": "https://localhost:8080/"
        },
        "id": "93Vcy8vclACg",
        "outputId": "aee42e0c-cfbd-47d3-9a60-28334c5efd1a"
      },
      "execution_count": null,
      "outputs": [
        {
          "output_type": "execute_result",
          "data": {
            "text/plain": [
              "8983.597295572321"
            ]
          },
          "metadata": {},
          "execution_count": 615
        }
      ]
    },
    {
      "cell_type": "code",
      "source": [
        "from sklearn.model_selection import cross_val_score\n",
        "\n",
        "scores = cross_val_score(lin_reg, X_train_s, Y_train,\n",
        "                         scoring=\"neg_mean_squared_error\", cv=10)\n",
        "lin_rmse_scores = np.sqrt(-scores)"
      ],
      "metadata": {
        "id": "I3PZzfkRmSXk"
      },
      "execution_count": null,
      "outputs": []
    },
    {
      "cell_type": "code",
      "source": [
        "def display_scores(scores):\n",
        "    print(\"Scores:\", scores)\n",
        "    print(\"Mean:\", scores.mean())\n",
        "    print(\"Standard deviation:\", scores.std())\n",
        "\n",
        "display_scores(lin_rmse_scores)"
      ],
      "metadata": {
        "colab": {
          "base_uri": "https://localhost:8080/"
        },
        "id": "ZNR6uIkRmaXM",
        "outputId": "623f12da-9aad-46f1-bfd7-9cabb1561990"
      },
      "execution_count": null,
      "outputs": [
        {
          "output_type": "stream",
          "name": "stdout",
          "text": [
            "Scores: [  9268.64358553   8168.55043966   9937.46903636   9404.24281106\n",
            " 101865.11879359   8035.94667848   9915.14960515   7981.84728534\n",
            "   9655.60470861   8419.87424209]\n",
            "Mean: 18265.24471858553\n",
            "Standard deviation: 27876.25930029383\n"
          ]
        }
      ]
    },
    {
      "cell_type": "markdown",
      "source": [
        "### The RMSE tells us that model has typical prediction error of 8983 which is pretty big.we will try more complex models."
      ],
      "metadata": {
        "id": "mDp-afZvlvTD"
      }
    },
    {
      "cell_type": "markdown",
      "source": [
        "# Decision Tree regressor"
      ],
      "metadata": {
        "id": "rXSJ0KWF2Fgf"
      }
    },
    {
      "cell_type": "code",
      "source": [
        "from sklearn.tree import DecisionTreeRegressor\n",
        "\n",
        "tree_reg = DecisionTreeRegressor(random_state=42)\n",
        "tree_reg.fit(X_train_s, Y_train)"
      ],
      "metadata": {
        "colab": {
          "base_uri": "https://localhost:8080/"
        },
        "id": "ki4VBkzYl13h",
        "outputId": "648a93de-070f-4af3-b854-3ce49137a1b0"
      },
      "execution_count": null,
      "outputs": [
        {
          "output_type": "execute_result",
          "data": {
            "text/plain": [
              "DecisionTreeRegressor(random_state=42)"
            ]
          },
          "metadata": {},
          "execution_count": 618
        }
      ]
    },
    {
      "cell_type": "code",
      "source": [
        "Y_pred = tree_reg.predict(X_test_s)\n",
        "tree_mse = mean_squared_error(Y_test,Y_pred)\n",
        "tree_rmse = np.sqrt(tree_mse)\n",
        "tree_rmse"
      ],
      "metadata": {
        "colab": {
          "base_uri": "https://localhost:8080/"
        },
        "id": "ZCGhbKFymDjb",
        "outputId": "cb63c797-b896-4889-8950-d693a90bf6ee"
      },
      "execution_count": null,
      "outputs": [
        {
          "output_type": "execute_result",
          "data": {
            "text/plain": [
              "12367.595892529782"
            ]
          },
          "metadata": {},
          "execution_count": 619
        }
      ]
    },
    {
      "cell_type": "code",
      "source": [
        "scores = cross_val_score(tree_reg,X_train_s, Y_train,scoring=\"neg_mean_squared_error\", cv=10)\n",
        "tree_rmse_scores = np.sqrt(-scores)\n",
        "display_scores(tree_rmse_scores)"
      ],
      "metadata": {
        "colab": {
          "base_uri": "https://localhost:8080/"
        },
        "id": "Iv0rC78pmzCz",
        "outputId": "4010eac1-878e-4a2f-d043-aedf0de528ec"
      },
      "execution_count": null,
      "outputs": [
        {
          "output_type": "stream",
          "name": "stdout",
          "text": [
            "Scores: [ 9792.98690863  7985.39562012 10381.46645128  9940.05489713\n",
            "  8688.93861878  8426.86034705 11036.38451961  9442.67303649\n",
            "  9283.49125472  8118.85665185]\n",
            "Mean: 9309.710830567572\n",
            "Standard deviation: 954.779845302633\n"
          ]
        }
      ]
    },
    {
      "cell_type": "markdown",
      "source": [
        "## Now, we can see that linear regression was even better than decision tree"
      ],
      "metadata": {
        "id": "1a_4NN8mnTFd"
      }
    },
    {
      "cell_type": "markdown",
      "source": [
        "# SVR"
      ],
      "metadata": {
        "id": "1z6sgJ9C2DP6"
      }
    },
    {
      "cell_type": "code",
      "source": [
        "from sklearn.svm import SVR\n",
        "\n",
        "svm_reg = SVR(kernel=\"linear\")\n",
        "svm_reg.fit(X_train_s, Y_train)\n",
        "Y_pred = svm_reg.predict(X_test_s)\n",
        "svm_mse = mean_squared_error(Y_test,Y_pred)\n",
        "svm_rmse = np.sqrt(svm_mse)\n",
        "svm_rmse"
      ],
      "metadata": {
        "colab": {
          "base_uri": "https://localhost:8080/"
        },
        "id": "0rV01gThoX9R",
        "outputId": "1674768a-6fda-460a-c9f3-be11c25d7a58"
      },
      "execution_count": null,
      "outputs": [
        {
          "output_type": "execute_result",
          "data": {
            "text/plain": [
              "10678.15887453596"
            ]
          },
          "metadata": {},
          "execution_count": 621
        }
      ]
    },
    {
      "cell_type": "code",
      "source": [
        "svr_scores = cross_val_score(svm_reg,X_train_s, Y_train,scoring=\"neg_mean_squared_error\", cv=10)\n",
        "svr_rmse_scores = np.sqrt(-svr_scores)\n",
        "display_scores(svr_rmse_scores)"
      ],
      "metadata": {
        "colab": {
          "base_uri": "https://localhost:8080/"
        },
        "id": "vl6MbTRzpXcl",
        "outputId": "663fb789-3943-4bbf-ab18-0bb64cd180df"
      },
      "execution_count": null,
      "outputs": [
        {
          "output_type": "stream",
          "name": "stdout",
          "text": [
            "Scores: [11679.70891782 10071.44634842 11579.99627713 12579.97165095\n",
            " 10070.71140464 10607.09199905 10916.5705215   9996.30653885\n",
            " 12538.34906141 10630.29143491]\n",
            "Mean: 11067.044415468026\n",
            "Standard deviation: 929.9188109739\n"
          ]
        }
      ]
    },
    {
      "cell_type": "markdown",
      "source": [
        "### The svm performed badly in cv"
      ],
      "metadata": {
        "id": "Wn0RpiYLp1dF"
      }
    },
    {
      "cell_type": "markdown",
      "source": [
        "# Random Forest"
      ],
      "metadata": {
        "id": "TFkLRjOP2Akl"
      }
    },
    {
      "cell_type": "code",
      "source": [
        "from sklearn.ensemble import RandomForestRegressor\n",
        "\n",
        "forest_reg = RandomForestRegressor(n_estimators=100, random_state=42)\n",
        "forest_reg.fit(X_train_s, Y_train)"
      ],
      "metadata": {
        "colab": {
          "base_uri": "https://localhost:8080/"
        },
        "id": "zJK8UXzMnYyZ",
        "outputId": "6795dd38-e310-4906-dd2e-fdd0a2e7dcc1"
      },
      "execution_count": null,
      "outputs": [
        {
          "output_type": "execute_result",
          "data": {
            "text/plain": [
              "RandomForestRegressor(random_state=42)"
            ]
          },
          "metadata": {},
          "execution_count": 623
        }
      ]
    },
    {
      "cell_type": "code",
      "source": [
        "Y_pred = forest_reg.predict(X_test_s) \n",
        "forest_mse = mean_squared_error(Y_test, Y_pred) \n",
        "forest_rmse = np.sqrt(forest_mse) \n",
        "forest_rmse"
      ],
      "metadata": {
        "colab": {
          "base_uri": "https://localhost:8080/"
        },
        "id": "xxCC9dP_ncYy",
        "outputId": "1cea8df4-02ac-4ff5-8d34-90af2c344ac8"
      },
      "execution_count": null,
      "outputs": [
        {
          "output_type": "execute_result",
          "data": {
            "text/plain": [
              "9789.320889257886"
            ]
          },
          "metadata": {},
          "execution_count": 624
        }
      ]
    },
    {
      "cell_type": "code",
      "source": [
        "forest_scores = cross_val_score(forest_reg,X_train_s, Y_train,scoring=\"neg_mean_squared_error\", cv=10)\n",
        "forest_rmse_scores = np.sqrt(-forest_scores)\n",
        "display_scores(forest_rmse_scores)"
      ],
      "metadata": {
        "colab": {
          "base_uri": "https://localhost:8080/"
        },
        "id": "S7R2daLHnhsE",
        "outputId": "2a2c53bc-0a53-49a6-b894-1840bf537bcd"
      },
      "execution_count": null,
      "outputs": [
        {
          "output_type": "stream",
          "name": "stdout",
          "text": [
            "Scores: [7309.07558636 6954.5386292  7891.39548908 7105.2797155  6655.85791828\n",
            " 6291.75114298 7478.61016317 7567.45512615 7263.80044419 6473.08518329]\n",
            "Mean: 7099.084939818931\n",
            "Standard deviation: 482.02064899490523\n"
          ]
        }
      ]
    },
    {
      "cell_type": "markdown",
      "source": [
        "# **Best model which has mean error of 7099 with standard deviation of +- 482**"
      ],
      "metadata": {
        "id": "qAIwaTFxoRdz"
      }
    },
    {
      "cell_type": "markdown",
      "metadata": {
        "id": "BN0kpETspM1S"
      },
      "source": [
        "# **Model selection**\n",
        "\n",
        "Select the best model and save the model as a pickle file"
      ]
    },
    {
      "cell_type": "markdown",
      "source": [
        "## Finally the best model is RandomForest\n",
        "\n",
        "---\n",
        "## Hyperparameter Tuning\n"
      ],
      "metadata": {
        "id": "Jq0bxwK0p_vg"
      }
    },
    {
      "cell_type": "code",
      "source": [
        "n_estimators = [5,20,50,100] \n",
        "max_features = ['auto', 'sqrt'] \n",
        "max_depth = [int(x) for x in np.linspace(10, 120, num = 12)]\n",
        "min_samples_split = [2, 6, 10] \n",
        "min_samples_leaf = [1, 3, 4] \n",
        "bootstrap = [True, False] \n",
        "\n",
        "random_grid = {'n_estimators': n_estimators,\n",
        "\n",
        "'max_features': max_features,\n",
        "\n",
        "'max_depth': max_depth,\n",
        "\n",
        "'min_samples_split': min_samples_split,\n",
        "\n",
        "'min_samples_leaf': min_samples_leaf,\n",
        "\n",
        "'bootstrap': bootstrap}"
      ],
      "metadata": {
        "id": "6iIun2WywNlP"
      },
      "execution_count": null,
      "outputs": []
    },
    {
      "cell_type": "code",
      "source": [
        "from sklearn.model_selection import RandomizedSearchCV\n",
        "rf_random = RandomizedSearchCV(estimator = forest_reg,param_distributions = random_grid,\n",
        "               n_iter = 100, cv = 5, verbose=2, random_state=35, n_jobs = -1)"
      ],
      "metadata": {
        "id": "UIvo4BWkwR0R"
      },
      "execution_count": null,
      "outputs": []
    },
    {
      "cell_type": "code",
      "source": [
        "rf_random.fit(X_train_s, Y_train)"
      ],
      "metadata": {
        "colab": {
          "base_uri": "https://localhost:8080/"
        },
        "id": "hkHhcdgUwSbS",
        "outputId": "719e9991-0402-4ad1-c789-2598e933d065"
      },
      "execution_count": null,
      "outputs": [
        {
          "output_type": "stream",
          "name": "stdout",
          "text": [
            "Fitting 5 folds for each of 100 candidates, totalling 500 fits\n"
          ]
        },
        {
          "output_type": "execute_result",
          "data": {
            "text/plain": [
              "RandomizedSearchCV(cv=5, estimator=RandomForestRegressor(random_state=42),\n",
              "                   n_iter=100, n_jobs=-1,\n",
              "                   param_distributions={'bootstrap': [True, False],\n",
              "                                        'max_depth': [10, 20, 30, 40, 50, 60,\n",
              "                                                      70, 80, 90, 100, 110,\n",
              "                                                      120],\n",
              "                                        'max_features': ['auto', 'sqrt'],\n",
              "                                        'min_samples_leaf': [1, 3, 4],\n",
              "                                        'min_samples_split': [2, 6, 10],\n",
              "                                        'n_estimators': [5, 20, 50, 100]},\n",
              "                   random_state=35, verbose=2)"
            ]
          },
          "metadata": {},
          "execution_count": 628
        }
      ]
    },
    {
      "cell_type": "code",
      "source": [
        "print ('Random grid: ', random_grid, '\\n')\n",
        "print ('Best Parameters: ', rf_random.best_params_, ' \\n')"
      ],
      "metadata": {
        "colab": {
          "base_uri": "https://localhost:8080/"
        },
        "id": "03Gnss40wmY_",
        "outputId": "1b41470d-e293-43dc-c0cc-50f963c4ed68"
      },
      "execution_count": null,
      "outputs": [
        {
          "output_type": "stream",
          "name": "stdout",
          "text": [
            "Random grid:  {'n_estimators': [5, 20, 50, 100], 'max_features': ['auto', 'sqrt'], 'max_depth': [10, 20, 30, 40, 50, 60, 70, 80, 90, 100, 110, 120], 'min_samples_split': [2, 6, 10], 'min_samples_leaf': [1, 3, 4], 'bootstrap': [True, False]} \n",
            "\n",
            "Best Parameters:  {'n_estimators': 100, 'min_samples_split': 2, 'min_samples_leaf': 1, 'max_features': 'sqrt', 'max_depth': 120, 'bootstrap': True}  \n",
            "\n"
          ]
        }
      ]
    },
    {
      "cell_type": "code",
      "source": [
        "forest_reg = RandomForestRegressor(n_estimators = 100, min_samples_split = 2, min_samples_leaf= 1, max_features = 'sqrt', max_depth= 120, bootstrap=True) \n",
        "forest_reg.fit( X_train_s, Y_train) \n",
        "Y_pred = forest_reg.predict(X_test_s) \n",
        "forest_mse = mean_squared_error(Y_test, Y_pred) \n",
        "forest_rmse = np.sqrt(forest_mse) \n",
        "forest_rmse"
      ],
      "metadata": {
        "colab": {
          "base_uri": "https://localhost:8080/"
        },
        "id": "VSNjNArawvL7",
        "outputId": "966f7958-37f7-4d80-de2e-5820247384aa"
      },
      "execution_count": null,
      "outputs": [
        {
          "output_type": "execute_result",
          "data": {
            "text/plain": [
              "8642.183086266374"
            ]
          },
          "metadata": {},
          "execution_count": 630
        }
      ]
    },
    {
      "cell_type": "code",
      "source": [
        "forest_scores = cross_val_score(forest_reg,X_train_s, Y_train,scoring=\"neg_mean_squared_error\", cv=10)\n",
        "forest_rmse_scores = np.sqrt(-forest_scores)\n",
        "display_scores(forest_rmse_scores)"
      ],
      "metadata": {
        "colab": {
          "base_uri": "https://localhost:8080/"
        },
        "id": "Ublor9JgxV9l",
        "outputId": "80f665e5-fcb3-4121-8782-bb09a8a695e2"
      },
      "execution_count": null,
      "outputs": [
        {
          "output_type": "stream",
          "name": "stdout",
          "text": [
            "Scores: [7167.35099819 6613.87876462 7533.68656647 6574.75584485 6648.63500307\n",
            " 6067.34131749 6909.32845035 6930.44539519 7543.84451442 6353.82253013]\n",
            "Mean: 6834.308938477569\n",
            "Standard deviation: 456.93495812612156\n"
          ]
        }
      ]
    },
    {
      "cell_type": "markdown",
      "source": [
        "## so this is our final model and we will be deploying this random forest model"
      ],
      "metadata": {
        "id": "d9SXsc0ixcDS"
      }
    },
    {
      "cell_type": "markdown",
      "source": [
        "saving as pickel file"
      ],
      "metadata": {
        "id": "rmiQpd18yspf"
      }
    },
    {
      "cell_type": "code",
      "source": [
        "import pandas as pd\n",
        "import pickle\n",
        "\n",
        "pickle.dump(forest_reg, open('model.pkl', 'wb'))"
      ],
      "metadata": {
        "id": "9gkQTPkMyo2G"
      },
      "execution_count": null,
      "outputs": []
    },
    {
      "cell_type": "markdown",
      "metadata": {
        "id": "SN01SXy-pdWU"
      },
      "source": [
        "**Model Validation**\n",
        "\n",
        "Write a function (predict_rent) which completes all pre-processing steps required to predict the rent of a house, using the pickle file (trained model)\n",
        "\n",
        "Input : validate dataframe / array\n",
        "\n",
        "Output : Price dataframe ,expected output shape (147,1)\n",
        "\n",
        "Save the output as following yourname_validate_prices.csv\n"
      ]
    },
    {
      "cell_type": "code",
      "source": [
        "X_val=df_val.drop(['Pincode','Tennants','Bathrooms'],axis=1)"
      ],
      "metadata": {
        "id": "AEs8Po0gRroM"
      },
      "execution_count": null,
      "outputs": []
    },
    {
      "cell_type": "code",
      "execution_count": null,
      "metadata": {
        "id": "VzeSA6kiqMAR"
      },
      "outputs": [],
      "source": [
        "def predict_rent(df):\n",
        "  pickled_model = pickle.load(open('model.pkl', 'rb'))\n",
        "  l = pickled_model.predict(df)\n",
        "  return l"
      ]
    },
    {
      "cell_type": "code",
      "source": [
        "l = predict_rent(X_val)"
      ],
      "metadata": {
        "colab": {
          "base_uri": "https://localhost:8080/"
        },
        "id": "MKG_H67lVuUY",
        "outputId": "cadc215c-500c-4337-cdd0-ec1e05cfe40d"
      },
      "execution_count": null,
      "outputs": [
        {
          "output_type": "stream",
          "name": "stderr",
          "text": [
            "/usr/local/lib/python3.8/dist-packages/sklearn/base.py:443: UserWarning: X has feature names, but RandomForestRegressor was fitted without feature names\n",
            "  warnings.warn(\n"
          ]
        }
      ]
    },
    {
      "cell_type": "code",
      "execution_count": null,
      "metadata": {
        "id": "Tauabi_yqPDV"
      },
      "outputs": [],
      "source": [
        "out=pd.DataFrame(l,columns=['Price'])"
      ]
    },
    {
      "cell_type": "code",
      "execution_count": null,
      "metadata": {
        "id": "lujGEK1_qPGT"
      },
      "outputs": [],
      "source": [
        "out.to_csv('koushik_validate_prices.csv')"
      ]
    },
    {
      "cell_type": "code",
      "source": [
        "out.shape"
      ],
      "metadata": {
        "colab": {
          "base_uri": "https://localhost:8080/"
        },
        "id": "6hM_BaMkWAxq",
        "outputId": "2b3eb88f-13a1-410a-cfe8-b3ea194ec6eb"
      },
      "execution_count": null,
      "outputs": [
        {
          "output_type": "execute_result",
          "data": {
            "text/plain": [
              "(147, 1)"
            ]
          },
          "metadata": {},
          "execution_count": 638
        }
      ]
    }
  ],
  "metadata": {
    "colab": {
      "provenance": []
    },
    "kernelspec": {
      "display_name": "Python 3",
      "name": "python3"
    },
    "language_info": {
      "name": "python"
    }
  },
  "nbformat": 4,
  "nbformat_minor": 0
}